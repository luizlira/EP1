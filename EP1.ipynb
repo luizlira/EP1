{
 "cells": [
  {
   "cell_type": "code",
   "execution_count": 1,
   "metadata": {
    "collapsed": false
   },
   "outputs": [],
   "source": [
    "import numpy as np\n",
    "from matplotlib import pyplot as plt\n",
    "from tqdm import tqdm"
   ]
  },
  {
   "cell_type": "code",
   "execution_count": 2,
   "metadata": {
    "collapsed": false
   },
   "outputs": [],
   "source": [
    "# NUSP: 7563404\n",
    "epsilon_0 = 8.8541878170e-12\n",
    "epsilon = 1.9*epsilon_0\n",
    "sigma = 3.2e-3\n",
    "a = 11\n",
    "b = 6\n",
    "c = 4\n",
    "d = b-4 #2\n",
    "g = 3\n",
    "h = (b-d)/2 #2\n",
    "scale = 60\n",
    "L = 100\n",
    "it = 0"
   ]
  },
  {
   "cell_type": "code",
   "execution_count": 3,
   "metadata": {
    "collapsed": false
   },
   "outputs": [],
   "source": [
    "# Potentials\n",
    "data = np.zeros((b*scale,a*scale))\n",
    "\n",
    "# Central square can be assumed to have constant potential\n",
    "for i in range(c*scale):\n",
    "    data[int(b-d-h)*scale:int(b-h)*scale,g*scale + i ] = np.ones(d*scale)\n",
    "\n",
    "data = 100*data"
   ]
  },
  {
   "cell_type": "code",
   "execution_count": 4,
   "metadata": {
    "collapsed": false
   },
   "outputs": [
    {
     "name": "stderr",
     "output_type": "stream",
     "text": [
      "100%|██████████| 1000000/1000000 [34:14<00:00, 486.85it/s]"
     ]
    },
    {
     "name": "stdout",
     "output_type": "stream",
     "text": [
      "done\n"
     ]
    },
    {
     "name": "stderr",
     "output_type": "stream",
     "text": [
      "\n"
     ]
    }
   ],
   "source": [
    "def num_update(u):\n",
    "    u[1:-1,1:-1] = (u[1:-1,:-2] + u[:-2,1:-1] + u[1:-1,2:] + u[2:,1:-1])*0.25\n",
    "\n",
    "itermax = 1000000\n",
    "for i in tqdm(range(itermax)):\n",
    "    num_update(data[0:int(b-d-h)*scale+1,:])\n",
    "    num_update(data[int(b-d-h)*scale-1:int(b-h)*scale+1,:g*scale + 1])\n",
    "    num_update(data[int(b-d-h)*scale-1:int(b-h)*scale+1,(g+c)*scale-1:])\n",
    "    num_update(data[int(b-h)*scale-1:,:])\n",
    "it += itermax\n",
    "    \n",
    "print(\"done\")"
   ]
  },
  {
   "cell_type": "code",
   "execution_count": 5,
   "metadata": {
    "collapsed": false
   },
   "outputs": [
    {
     "data": {
      "text/plain": [
       "1000000"
      ]
     },
     "execution_count": 5,
     "metadata": {},
     "output_type": "execute_result"
    }
   ],
   "source": [
    "it"
   ]
  },
  {
   "cell_type": "code",
   "execution_count": 6,
   "metadata": {
    "collapsed": false
   },
   "outputs": [
    {
     "ename": "NameError",
     "evalue": "name 'x' is not defined",
     "output_type": "error",
     "traceback": [
      "\u001b[0;31m---------------------------------------------------------------------------\u001b[0m",
      "\u001b[0;31mNameError\u001b[0m                                 Traceback (most recent call last)",
      "\u001b[0;32m<ipython-input-6-8182ff768e1b>\u001b[0m in \u001b[0;36m<module>\u001b[0;34m()\u001b[0m\n\u001b[0;32m----> 1\u001b[0;31m \u001b[0mx\u001b[0m\u001b[0;34m.\u001b[0m\u001b[0mshape\u001b[0m\u001b[0;34m\u001b[0m\u001b[0m\n\u001b[0m",
      "\u001b[0;31mNameError\u001b[0m: name 'x' is not defined"
     ]
    }
   ],
   "source": [
    "x.shape"
   ]
  },
  {
   "cell_type": "code",
   "execution_count": null,
   "metadata": {
    "collapsed": false
   },
   "outputs": [],
   "source": [
    "fig = plt.figure()\n",
    "ax1 = fig.add_subplot(111)\n",
    "\n",
    "# Contour Plot of Potential\n",
    "y = np.linspace(0, b, b*scale)\n",
    "x = np.linspace(0, a, a*scale)\n",
    "ax1.contour(x,y, data, np.arange(0,100,10))"
   ]
  },
  {
   "cell_type": "code",
   "execution_count": null,
   "metadata": {
    "collapsed": false
   },
   "outputs": [],
   "source": [
    "# Electric Field Components\n",
    "E_x = np.copy(data)\n",
    "E_y = np.copy(data)\n",
    "delta = 1e-2/(scale)\n",
    "for i in range(0,b*scale-1):\n",
    "    for j in range(0,a*scale-1):\n",
    "        E_y[i,j] = data[i,j] - data[i+1,j]\n",
    "        E_x[i,j] = data[i,j] - data[i,j+1]\n",
    "E_x /= delta\n",
    "E_y /= delta"
   ]
  },
  {
   "cell_type": "code",
   "execution_count": null,
   "metadata": {
    "collapsed": false,
    "scrolled": true
   },
   "outputs": [],
   "source": [
    "# Streamlines (Current lines)\n",
    "ax2 = fig.add_subplot(111)\n",
    "ax2.streamplot(x,y,sigma*E_x,sigma*E_y, density=1.5)\n",
    "plt.show()"
   ]
  },
  {
   "cell_type": "code",
   "execution_count": null,
   "metadata": {
    "collapsed": false
   },
   "outputs": [],
   "source": [
    "# Current\n",
    "I = np.sum(data[:,1]) + np.sum(data[:,-2]) + np.sum(data[1,:]) + np.sum(data[-2,:])\n",
    "I = sigma*L*1e-2*I"
   ]
  },
  {
   "cell_type": "code",
   "execution_count": null,
   "metadata": {
    "collapsed": false
   },
   "outputs": [],
   "source": [
    "R = 100/I"
   ]
  },
  {
   "cell_type": "code",
   "execution_count": null,
   "metadata": {
    "collapsed": false
   },
   "outputs": [],
   "source": [
    "C = epsilon/R/sigma"
   ]
  },
  {
   "cell_type": "code",
   "execution_count": null,
   "metadata": {
    "collapsed": false
   },
   "outputs": [],
   "source": [
    "# Min Surface Charge Density\n",
    "rho_s = 0\n",
    "rho_s = max([rho_s, max(abs(E_y[0,:]))])\n",
    "rho_s = max([rho_s, max(abs(E_y[-2,:]))])\n",
    "rho_s = max([rho_s, max(abs(E_x[:,0]))])\n",
    "rho_s = max([rho_s, max(abs(E_x[:,-2]))])\n",
    "rho_s = epsilon * rho_s"
   ]
  },
  {
   "cell_type": "code",
   "execution_count": null,
   "metadata": {
    "collapsed": false
   },
   "outputs": [],
   "source": [
    "I, R, C, rho_s"
   ]
  },
  {
   "cell_type": "code",
   "execution_count": null,
   "metadata": {
    "collapsed": false
   },
   "outputs": [],
   "source": [
    "sigma_dual = 3e-3\n",
    "L_dual = L\n",
    "R_dual = 1/(2*R*sigma*sigma_dual*L*L_dual)"
   ]
  },
  {
   "cell_type": "code",
   "execution_count": null,
   "metadata": {
    "collapsed": false
   },
   "outputs": [],
   "source": [
    "R_dual"
   ]
  },
  {
   "cell_type": "code",
   "execution_count": null,
   "metadata": {
    "collapsed": false
   },
   "outputs": [],
   "source": [
    "1/(R*sigma)"
   ]
  },
  {
   "cell_type": "code",
   "execution_count": null,
   "metadata": {
    "collapsed": false
   },
   "outputs": [],
   "source": [
    "1/(135.3*1e-2)"
   ]
  },
  {
   "cell_type": "code",
   "execution_count": null,
   "metadata": {
    "collapsed": false
   },
   "outputs": [],
   "source": [
    "14/19"
   ]
  },
  {
   "cell_type": "code",
   "execution_count": null,
   "metadata": {
    "collapsed": true
   },
   "outputs": [],
   "source": []
  }
 ],
 "metadata": {
  "kernelspec": {
   "display_name": "Python 3",
   "language": "python",
   "name": "python3"
  },
  "language_info": {
   "codemirror_mode": {
    "name": "ipython",
    "version": 3
   },
   "file_extension": ".py",
   "mimetype": "text/x-python",
   "name": "python",
   "nbconvert_exporter": "python",
   "pygments_lexer": "ipython3",
   "version": "3.5.2"
  }
 },
 "nbformat": 4,
 "nbformat_minor": 1
}
